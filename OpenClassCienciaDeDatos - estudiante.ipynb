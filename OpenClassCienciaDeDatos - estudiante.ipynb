{
  "cells": [
    {
      "cell_type": "markdown",
      "metadata": {
        "id": "view-in-github",
        "colab_type": "text"
      },
      "source": [
        "<a href=\"https://colab.research.google.com/github/andres-merino/OpenClass-CienciaDeDatos-PUCE/blob/main/OpenClassCienciaDeDatos%20-%20estudiante.ipynb\" target=\"_parent\"><img src=\"https://colab.research.google.com/assets/colab-badge.svg\" alt=\"Open In Colab\"/></a>"
      ]
    },
    {
      "cell_type": "markdown",
      "metadata": {
        "id": "XUs12zfEF_lr"
      },
      "source": [
        "<table style=\"border: 1px solid white;border-collapse: collapse;\" >\n",
        "<tr>\n",
        "  <td style=\"width:20%;vertical-align:middle;padding-right: 10;\"> <img src=\"https://i.imgur.com/nt7hloA.png\" width=\"100\"> </td>\n",
        "  <td><p style=\"margin: 0; text-align:left; font-variant: small-caps; font-size: 20px; color:#0030A1; font-weight: bold;\">Facultad de Ciencias Exactas y Naturales</p>\n",
        "    <p style=\"margin: 0; text-align:left; font-variant: small-caps; font-size: 20px; color:#0030A1; font-weight: bold;\">Ciencia de Datos &bull; Open Class</p>\n",
        "    <p style=\"margin: 0; text-align:left; font-variant: small-caps; font-size: 20px; color:#0030A1;\">Matemática para procesamiento de imágenes</p>\n",
        "    <p style=\"margin: 0; text-align:left; color:#0030A1; font-style: oblique;\">Andrés Merino &bull; Junio 2024</p>\n",
        "  </td>  \n",
        "</tr>\n",
        "</table>"
      ]
    },
    {
      "cell_type": "markdown",
      "metadata": {
        "id": "sAkQXDifc1c7"
      },
      "source": [
        "---\n",
        "Librería para usar matrices:"
      ]
    },
    {
      "cell_type": "code",
      "execution_count": 1,
      "metadata": {
        "cellView": "form",
        "colab": {
          "base_uri": "https://localhost:8080/"
        },
        "id": "ek-XIpN0c1c9",
        "outputId": "3138f649-0d1b-41c8-97f1-bbb3def12cb3"
      },
      "outputs": [
        {
          "output_type": "stream",
          "name": "stderr",
          "text": [
            "100%|██████████| 6.23M/6.23M [00:00<00:00, 261MB/s]\n"
          ]
        },
        {
          "output_type": "stream",
          "name": "stdout",
          "text": [
            "Cuaderno configurado\n"
          ]
        }
      ],
      "source": [
        "#@title <font color=\"264CC7\" size=\"+1\"> Ejecutar configuración\n",
        "from io import StringIO\n",
        "import sys\n",
        "\n",
        "class Capturing(list):\n",
        "    def __enter__(self):\n",
        "        self._stdout = sys.stdout\n",
        "        sys.stdout = self._stringio = StringIO()\n",
        "        return self\n",
        "    def __exit__(self, *args):\n",
        "        self.extend(self._stringio.getvalue().splitlines())\n",
        "        del self._stringio    # free up some memory\n",
        "        sys.stdout = self._stdout\n",
        "\n",
        "with Capturing() as output:\n",
        "    print('Comenzamos....')\n",
        "\n",
        "with Capturing(output) as output:\n",
        "    # Librearías\n",
        "    ! pip install ultralytics\n",
        "    from ultralytics import YOLO\n",
        "    model = YOLO('yolov8n.pt')\n",
        "\n",
        "    import numpy as np\n",
        "\n",
        "    from matplotlib import pyplot as plt\n",
        "\n",
        "    import cv2\n",
        "\n",
        "    from urllib.request import urlretrieve\n",
        "\n",
        "    # Descargar la imagen\n",
        "    urlretrieve(\"https://raw.githubusercontent.com/andres-merino/OpenClass-CienciaDeDatos-PUCE/main/Bowser.jpg\", \"/content/Bowser.jpg\")\n",
        "    urlretrieve(\"https://raw.githubusercontent.com/andres-merino/OpenClass-CienciaDeDatos-PUCE/main/Mario.jpg\", \"/content/Mario.jpg\")\n",
        "    urlretrieve(\"https://raw.githubusercontent.com/andres-merino/OpenClass-CienciaDeDatos-PUCE/main/Mario2.jpg\", \"/content/Mario2.jpg\")\n",
        "    urlretrieve(\"https://raw.githubusercontent.com/andres-merino/OpenClass-CienciaDeDatos-PUCE/main/OsoAurelio.jpg\", \"/content/OsoAurelio.jpg\")\n",
        "\n",
        "    # Descarga de códigos\n",
        "    urlretrieve(\"https://raw.githubusercontent.com/andres-merino/OpenClass-CienciaDeDatos-PUCE/main/Codigos.txt\", \"/content/Codigos.txt\")\n",
        "\n",
        "    print(\"Cuaderno configurado\")\n",
        "\n",
        "if output[-1]=='Cuaderno configurado':\n",
        "    print(output[-1])\n",
        "else:\n",
        "    print(output[:-2])"
      ]
    },
    {
      "cell_type": "markdown",
      "metadata": {
        "id": "hfqcKQU-c1c-"
      },
      "source": [
        "---\n",
        "## <font color='264CC7'> Introducción a las matrices</font>\n",
        "---"
      ]
    },
    {
      "cell_type": "markdown",
      "metadata": {
        "id": "PSjs4rywc1c_"
      },
      "source": [
        "Ejemplo de escritura de una matriz:"
      ]
    },
    {
      "cell_type": "code",
      "execution_count": 1,
      "metadata": {
        "id": "VfiUts0Nc1c_"
      },
      "outputs": [],
      "source": []
    },
    {
      "cell_type": "markdown",
      "metadata": {
        "id": "ZCbKBAhfc1dA"
      },
      "source": [
        "Tamaño de una matriz:"
      ]
    },
    {
      "cell_type": "code",
      "execution_count": 1,
      "metadata": {
        "id": "ZgujBDsKc1dA"
      },
      "outputs": [],
      "source": []
    },
    {
      "cell_type": "markdown",
      "metadata": {
        "id": "vRYEbS0bc1dA"
      },
      "source": [
        "Elementos de una matriz:"
      ]
    },
    {
      "cell_type": "code",
      "execution_count": 1,
      "metadata": {
        "id": "C4N-4VuBc1dB"
      },
      "outputs": [],
      "source": []
    },
    {
      "cell_type": "markdown",
      "metadata": {
        "id": "DWjARMjLc1dC"
      },
      "source": [
        "---\n",
        "## <font color='264CC7'> Matrices como imágenes</font>\n",
        "---"
      ]
    },
    {
      "cell_type": "markdown",
      "metadata": {
        "id": "7DS1ZX1sc1dC"
      },
      "source": [
        "Primer ejemplo"
      ]
    },
    {
      "cell_type": "code",
      "execution_count": 1,
      "metadata": {
        "id": "MhDrJcCcc1dC"
      },
      "outputs": [],
      "source": []
    },
    {
      "cell_type": "code",
      "execution_count": 1,
      "metadata": {
        "id": "WcN_aeFgc1dD"
      },
      "outputs": [],
      "source": []
    },
    {
      "cell_type": "markdown",
      "metadata": {
        "id": "hDnIvCVnc1dD"
      },
      "source": [
        "Segundo ejemplo"
      ]
    },
    {
      "cell_type": "code",
      "execution_count": 1,
      "metadata": {
        "id": "BdHUk8sXc1dD"
      },
      "outputs": [],
      "source": []
    },
    {
      "cell_type": "code",
      "execution_count": 1,
      "metadata": {
        "id": "cx_keIDsc1dD"
      },
      "outputs": [],
      "source": []
    },
    {
      "cell_type": "markdown",
      "metadata": {
        "id": "CZUfEQldc1dD"
      },
      "source": [
        "### Suma de imágenes"
      ]
    },
    {
      "cell_type": "code",
      "execution_count": 1,
      "metadata": {
        "id": "akp98xG3c1dE"
      },
      "outputs": [],
      "source": []
    },
    {
      "cell_type": "code",
      "execution_count": 1,
      "metadata": {
        "id": "yXWs-bjsc1dE"
      },
      "outputs": [],
      "source": []
    },
    {
      "cell_type": "markdown",
      "metadata": {
        "id": "xTTvEP68c1dE"
      },
      "source": [
        "---\n",
        "## <font color='264CC7'> Imágenes a color</font>\n",
        "---"
      ]
    },
    {
      "cell_type": "code",
      "execution_count": 1,
      "metadata": {
        "id": "e_Tah8G4c1dE"
      },
      "outputs": [],
      "source": []
    },
    {
      "cell_type": "markdown",
      "metadata": {
        "id": "0AuFMlNlc1dE"
      },
      "source": [
        "---\n",
        "## <font color='264CC7'> Cargar imágenes</font>\n",
        "---"
      ]
    },
    {
      "cell_type": "code",
      "execution_count": 1,
      "metadata": {
        "id": "PucTZ8COc1dE"
      },
      "outputs": [],
      "source": []
    },
    {
      "cell_type": "markdown",
      "metadata": {
        "id": "2Z6oWZxHc1dF"
      },
      "source": [
        "Algunos colores de la imagen:"
      ]
    },
    {
      "cell_type": "code",
      "execution_count": 1,
      "metadata": {
        "id": "nFy7ARvBc1dF"
      },
      "outputs": [],
      "source": []
    },
    {
      "cell_type": "markdown",
      "metadata": {
        "id": "IFxsu4awc1dF"
      },
      "source": [
        "Cambiemos el color del ojo:"
      ]
    },
    {
      "cell_type": "code",
      "execution_count": 1,
      "metadata": {
        "id": "icX6-EeBc1dF"
      },
      "outputs": [],
      "source": []
    },
    {
      "cell_type": "markdown",
      "metadata": {
        "id": "Tt1WRi1A9Ym5"
      },
      "source": [
        "Demos la vuelta a la imagen."
      ]
    },
    {
      "cell_type": "code",
      "execution_count": 1,
      "metadata": {
        "id": "BeZYvA3Sc1dG"
      },
      "outputs": [],
      "source": []
    },
    {
      "cell_type": "markdown",
      "metadata": {
        "id": "D68j2N2oc1dG"
      },
      "source": [
        "### Reducir tamaño de una imagen"
      ]
    },
    {
      "cell_type": "code",
      "execution_count": 1,
      "metadata": {
        "id": "ig8eb-mVc1dG"
      },
      "outputs": [],
      "source": []
    },
    {
      "cell_type": "markdown",
      "metadata": {
        "id": "iyorVTw2c1dG"
      },
      "source": [
        "Reduzco el tamaño"
      ]
    },
    {
      "cell_type": "code",
      "execution_count": 1,
      "metadata": {
        "id": "peogOPqDc1dG"
      },
      "outputs": [],
      "source": []
    },
    {
      "cell_type": "markdown",
      "metadata": {
        "id": "5UV0iWSxc1dG"
      },
      "source": [
        "Guardo la imagen:"
      ]
    },
    {
      "cell_type": "code",
      "execution_count": 1,
      "metadata": {
        "id": "adUgjf2pc1dH"
      },
      "outputs": [],
      "source": []
    },
    {
      "cell_type": "markdown",
      "metadata": {
        "id": "fJq-YWp3c1dH"
      },
      "source": [
        "---\n",
        "## <font color='264CC7'> Aplicar filtros a imágenes</font>\n",
        "---"
      ]
    },
    {
      "cell_type": "code",
      "execution_count": 1,
      "metadata": {
        "id": "n1o0FleEc1dH"
      },
      "outputs": [],
      "source": []
    },
    {
      "cell_type": "markdown",
      "metadata": {
        "id": "718ULJr9c1dH"
      },
      "source": [
        "Filtro:"
      ]
    },
    {
      "cell_type": "code",
      "execution_count": 1,
      "metadata": {
        "id": "Pa7utLdZc1dH"
      },
      "outputs": [],
      "source": []
    },
    {
      "cell_type": "code",
      "execution_count": 1,
      "metadata": {
        "id": "02zM7nd5c1dH"
      },
      "outputs": [],
      "source": []
    },
    {
      "cell_type": "code",
      "execution_count": 1,
      "metadata": {
        "id": "NKhmw1Wxc1dH"
      },
      "outputs": [],
      "source": []
    },
    {
      "cell_type": "markdown",
      "metadata": {
        "id": "_nQZLbsfHuxD"
      },
      "source": [
        "---\n",
        "## <font color='264CC7'> Reconocimiento de patrones</font>\n",
        "---"
      ]
    },
    {
      "cell_type": "code",
      "execution_count": 1,
      "metadata": {
        "id": "JOcFHmstPg6r"
      },
      "outputs": [],
      "source": []
    },
    {
      "cell_type": "code",
      "execution_count": 1,
      "metadata": {
        "id": "-kSu2G9Nc1dI"
      },
      "outputs": [],
      "source": []
    }
  ],
  "metadata": {
    "colab": {
      "provenance": [],
      "include_colab_link": true
    },
    "kernelspec": {
      "display_name": "Python 3",
      "language": "python",
      "name": "python3"
    },
    "language_info": {
      "codemirror_mode": {
        "name": "ipython",
        "version": 3
      },
      "file_extension": ".py",
      "mimetype": "text/x-python",
      "name": "python",
      "nbconvert_exporter": "python",
      "pygments_lexer": "ipython3",
      "version": "3.11.3"
    },
    "orig_nbformat": 4
  },
  "nbformat": 4,
  "nbformat_minor": 0
}